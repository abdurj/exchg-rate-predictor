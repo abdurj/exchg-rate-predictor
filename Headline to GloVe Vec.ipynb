{
 "cells": [
  {
   "cell_type": "code",
   "execution_count": 1,
   "metadata": {},
   "outputs": [],
   "source": [
    "import torch\n",
    "import torchtext\n",
    "import torch.nn as nn\n",
    "import pandas as pd\n",
    "import os\n",
    "import csv\n",
    "import numpy as np\n",
    "import matplotlib.pyplot as plt\n",
    "\n",
    "cwd = os.getcwd()\n",
    "glove = torchtext.vocab.GloVe(name=\"6B\", dim=300) "
   ]
  },
  {
   "cell_type": "code",
   "execution_count": 2,
   "metadata": {},
   "outputs": [],
   "source": [
    "def split_headline(headline):\n",
    "    \n",
    "    headline = headline.replace(\".\", \" . \") \\\n",
    "                 .replace(\",\", \" , \") \\\n",
    "                 .replace(\";\", \" ; \") \\\n",
    "                 .replace(\"?\", \" ? \") \\\n",
    "                 .replace(\":\", \" : \") \\\n",
    "                 .replace(\"/\", \" / \") \\\n",
    "                 .replace(\"$\", \" $ \") \\\n",
    "                 .replace(\"€\", \" € \") \\\n",
    "                 .replace(\"(\", \" \") \\\n",
    "                 .replace(\")\", \" \") \\\n",
    "                 .replace(\"-\", \" \") \\\n",
    "                 .replace(\"~\", \" \") \\\n",
    "                 .replace(\"'\", \"\")\n",
    "    return headline.lower().split()\n",
    "\n",
    "def get_ML_data(glove):\n",
    "    train, valid, test = [], [], []\n",
    "    #df = pd.read_csv('final_input.csv').drop(['Date'], axis=1)\n",
    "    df = pd.read_csv('testfile.csv')\n",
    "    for i, line in enumerate(df.values):\n",
    "        headline = str(line[0])\n",
    "        word_index = [glove.stoi[w]        \n",
    "                for w in split_headline(headline)\n",
    "                if w in glove.stoi] \n",
    "        if not word_index: \n",
    "            continue\n",
    "        word_index = torch.tensor(word_index) \n",
    "        label1 = torch.tensor(float(line[1]))\n",
    "        label2 = torch.tensor(float(line[2]))\n",
    "        label3 = torch.tensor(float(line[3]))\n",
    "        label4 = torch.tensor(float(line[4]))\n",
    "        label5 = torch.tensor(float(line[5]))\n",
    "        label6 = torch.tensor(float(line[6]))\n",
    "        labels = torch.tensor([label1, label2, label3, label4, label5, label6])\n",
    "        if i % 5 in [1,2,3]:\n",
    "            train.append((word_index, labels))\n",
    "        elif i % 5 == 4:\n",
    "            valid.append((word_index, labels))\n",
    "        else:\n",
    "            test.append((word_index, labels))\n",
    "    return train, valid, test\n",
    "\n",
    "train, valid, test = get_ML_data(glove)"
   ]
  },
  {
   "cell_type": "code",
   "execution_count": 546,
   "metadata": {},
   "outputs": [
    {
     "data": {
      "text/plain": [
       "[(tensor([46768,   661,  1077,     4,   285,    46,   192,   630,   378,     2]),\n",
       "  tensor([ 0.0300, -0.0100,  0.2300, -0.0120, -0.0110,  0.0210])),\n",
       " (tensor([ 2214, 29642, 19568]),\n",
       "  tensor([0.0400, 0.0100, 0.2400, 0.0120, 0.0110, 0.0280])),\n",
       " (tensor([20198,    14]),\n",
       "  tensor([0.0500, 0.0300, 0.2500, 0.0360, 0.0320, 0.0350])),\n",
       " (tensor([ 430,   14, 3082]),\n",
       "  tensor([0.0800, 0.0900, 0.2800, 0.1080, 0.0970, 0.0560])),\n",
       " (tensor([ 521,   14,    7, 8237,   34,   36,    7, 2487]),\n",
       "  tensor([0.0900, 0.1100, 0.2900, 0.1320, 0.1190, 0.0630])),\n",
       " (tensor([  41,   33, 7523]),\n",
       "  tensor([0.1000, 0.1300, 0.3000, 0.1560, 0.1400, 0.0700])),\n",
       " (tensor([5199,   14,   29, 4308,  128]),\n",
       "  tensor([0.1300, 0.1900, 0.3300, 0.2280, 0.2050, 0.0910])),\n",
       " (tensor([143666,     14,     29,    734]),\n",
       "  tensor([0.1400, 0.2100, 0.3400, 0.2520, 0.2270, 0.0980])),\n",
       " (tensor([   41,   913, 22392,    13,  2058, 19036,     2]),\n",
       "  tensor([0.1500, 0.2300, 0.3500, 0.2760, 0.2480, 0.1050])),\n",
       " (tensor([86908,     7, 34136]),\n",
       "  tensor([0.1800, 0.2900, 0.3800, 0.3480, 0.3130, 0.1260])),\n",
       " (tensor([ 7221,    32, 48156,     5,  1042]),\n",
       "  tensor([0.1900, 0.3100, 0.3900, 0.3720, 0.3350, 0.1330])),\n",
       " (tensor([   41,   913,    22, 22048,     0,   193]),\n",
       "  tensor([0.2000, 0.3300, 0.4000, 0.3960, 0.3560, 0.1400])),\n",
       " (tensor([   0,  268, 6910,   14,   13,    0,  220,  218,  823,  437]),\n",
       "  tensor([0.2300, 0.3900, 0.4300, 0.4680, 0.4210, 0.1610])),\n",
       " (tensor([1249, 4012, 9464]),\n",
       "  tensor([0.2400, 0.4100, 0.4400, 0.4920, 0.4430, 0.1680])),\n",
       " (tensor([   41,    33,  1682, 25495]),\n",
       "  tensor([0.2500, 0.4300, 0.4500, 0.5160, 0.4650, 0.1750]))]"
      ]
     },
     "execution_count": 546,
     "metadata": {},
     "output_type": "execute_result"
    }
   ],
   "source": [
    "train"
   ]
  },
  {
   "cell_type": "code",
   "execution_count": 3,
   "metadata": {},
   "outputs": [],
   "source": [
    "from torch.nn.utils.rnn import pad_sequence\n",
    "\n",
    "train_data = []\n",
    "valid_data = []\n",
    "test_data = []\n",
    "train_labels = []\n",
    "valid_labels = []\n",
    "test_labels = []\n",
    "\n",
    "\n",
    "train_padded = pad_sequence([headline for headline, labels in train],\n",
    "                            batch_first=True)\n",
    "for headline, labels in train:\n",
    "    train_labels.append(labels)\n",
    "    \n",
    "valid_padded = pad_sequence([headline for headline, labels in valid],\n",
    "                            batch_first=True)\n",
    "for headline, labels in valid:\n",
    "    valid_labels.append(labels)\n",
    "    \n",
    "test_padded = pad_sequence([headline for headline, labels in test],\n",
    "                            batch_first=True)\n",
    "for headline, labels in test:\n",
    "    test_labels.append(labels)\n",
    "    \n",
    "for i in range(len(train_labels)):\n",
    "    train_data.append((train_padded[i], train_labels[i]))\n",
    "    \n",
    "for i in range(len(valid_labels)):\n",
    "    valid_data.append((valid_padded[i], valid_labels[i]))\n",
    "    \n",
    "for i in range(len(test_labels)):\n",
    "    test_data.append((test_padded[i], test_labels[i]))"
   ]
  },
  {
   "cell_type": "code",
   "execution_count": 4,
   "metadata": {},
   "outputs": [],
   "source": [
    "def get_error(model, data):\n",
    "    for headlines, labels in data:\n",
    "        output = (model(headlines))        \n",
    "        error = np.square(np.subtract(labels,output.detach().numpy())).mean() \n",
    "    return error"
   ]
  },
  {
   "cell_type": "code",
   "execution_count": 5,
   "metadata": {},
   "outputs": [
    {
     "ename": "IndentationError",
     "evalue": "unexpected indent (<ipython-input-5-09c10a949804>, line 30)",
     "output_type": "error",
     "traceback": [
      "\u001b[1;36m  File \u001b[1;32m\"<ipython-input-5-09c10a949804>\"\u001b[1;36m, line \u001b[1;32m30\u001b[0m\n\u001b[1;33m    if (epoch + 1) % 5 == 0:\u001b[0m\n\u001b[1;37m    ^\u001b[0m\n\u001b[1;31mIndentationError\u001b[0m\u001b[1;31m:\u001b[0m unexpected indent\n"
     ]
    }
   ],
   "source": [
    "def train_rnn_network(model, train, valid, num_epochs=5, learning_rate=1e-6, batch_size = 128):\n",
    "    criterion = nn.MSELoss()\n",
    "    optimizer = torch.optim.Adam(model.parameters(), lr=learning_rate)\n",
    "    train_loader = torch.utils.data.DataLoader(train, \n",
    "                                               batch_size=batch_size, \n",
    "                                               shuffle=True)\n",
    "    valid_loader = torch.utils.data.DataLoader(valid, \n",
    "                                           batch_size=batch_size, \n",
    "                                           shuffle=True)\n",
    "    epochs, losses, train_err, valid_err = [], [], [], []\n",
    "    n=0\n",
    "    \n",
    "    for epoch in range(num_epochs):\n",
    "        for headlines, labels in train_loader:\n",
    "            optimizer.zero_grad()\n",
    "            pred = model(headlines)\n",
    "            loss = criterion(pred, labels.float())\n",
    "            loss.backward()\n",
    "            optimizer.step()\n",
    "        losses.append(float(loss))\n",
    "        \n",
    "        \n",
    "        epochs.append(epoch)\n",
    "        train_err.append(get_error(model, train_loader))\n",
    "        valid_err.append(get_error(model, valid_loader))\n",
    "        print(\"Epoch %d; Loss %f; Train Err %f; Val Err %f\" % (\n",
    "            epoch+1, loss, train_err[-1], valid_err[-1]))\n",
    "        \n",
    "    \n",
    "         if (epoch + 1) % 5 == 0:\n",
    "             torch.save(model, cwd + '\\\\Checkpoint.pth' + str(n))\n",
    "             n += 1\n",
    "            \n",
    "    plt.title(\"Training Curve\")\n",
    "    plt.plot(losses, label=\"Train\")\n",
    "    plt.xlabel(\"Epoch\")\n",
    "    plt.ylabel(\"Loss\")\n",
    "    plt.show()\n",
    "    \n",
    "    plt.title(\"Error Curve\")\n",
    "    plt.plot(epochs, train_err, label=\"Train\")\n",
    "    plt.plot(epochs, valid_err, label=\"Validation\")\n",
    "    plt.xlabel(\"Epoch\")\n",
    "    plt.ylabel(\"MSE\")\n",
    "    plt.legend(loc='best')\n",
    "    plt.show()"
   ]
  },
  {
   "cell_type": "code",
   "execution_count": 6,
   "metadata": {},
   "outputs": [],
   "source": [
    "class Exch_LSTM(nn.Module):\n",
    "    def __init__(self, input_size, hidden_size, num_classes):\n",
    "        super(Exch_LSTM, self).__init__()\n",
    "        self.emb = nn.Embedding.from_pretrained(glove.vectors)\n",
    "        self.hidden_size = hidden_size\n",
    "        self.rnn = nn.LSTM(input_size, hidden_size, batch_first=True)\n",
    "        self.fc = nn.Linear(hidden_size, num_classes)\n",
    "    \n",
    "    def forward(self, x):\n",
    "        x = self.emb(x)\n",
    "        h0 = torch.zeros(1, x.size(0), self.hidden_size)\n",
    "        c0 = torch.zeros(1, x.size(0), self.hidden_size)\n",
    "        out, _ = self.rnn(x, (h0, c0))\n",
    "        out = self.fc(out[:, -1, :])\n",
    "        return out\n",
    "\n",
    "#model_lstm = Exch_LSTM(300, 300, 6)\n",
    "#train_rnn_network(model_lstm, train_data, valid_data, num_epochs=20, learning_rate=2e-5)"
   ]
  },
  {
   "cell_type": "code",
   "execution_count": 7,
   "metadata": {},
   "outputs": [],
   "source": [
    "def headline_to_index(headline):\n",
    "    word_index = [glove.stoi[w]        \n",
    "        for w in split_headline(headline)\n",
    "                        if w in glove.stoi] \n",
    "    if not word_index: \n",
    "        pass\n",
    "    word_index = torch.tensor(word_index) \n",
    "    return word_index.unsqueeze(0)"
   ]
  },
  {
   "cell_type": "code",
   "execution_count": 57,
   "metadata": {},
   "outputs": [
    {
     "data": {
      "text/plain": [
       "tensor([[ 0.1208, -0.0694, -0.0868, -0.0176, -0.0687,  0.0282]],\n",
       "       grad_fn=<NegBackward>)"
      ]
     },
     "execution_count": 57,
     "metadata": {},
     "output_type": "execute_result"
    }
   ],
   "source": [
    "headline = headline_to_index(\"Mark\")\n",
    "\n",
    "model = torch.load(cwd + \"//final_model.pth1\")\n",
    "\n",
    "-model(headline)"
   ]
  },
  {
   "cell_type": "code",
   "execution_count": 13,
   "metadata": {},
   "outputs": [],
   "source": [
    "def get_accuracy(model, data):\n",
    "    total = 0\n",
    "    correct = 0\n",
    "    for headlines, labels in data:\n",
    "        output = (model(headlines.unsqueeze(0)))        \n",
    "        for i in output:\n",
    "          for j in range(6):\n",
    "            if i[j] > 0 and labels[j] > 0:\n",
    "              correct += 1\n",
    "              total += 1\n",
    "            elif i[j] < 0 and labels[j] < 0:\n",
    "              correct +=1\n",
    "              total += 1\n",
    "            else:\n",
    "              total += 1\n",
    "    return correct/total"
   ]
  },
  {
   "cell_type": "code",
   "execution_count": 18,
   "metadata": {},
   "outputs": [
    {
     "data": {
      "text/plain": [
       "0.8"
      ]
     },
     "execution_count": 18,
     "metadata": {},
     "output_type": "execute_result"
    }
   ],
   "source": [
    "get_accuracy(final_model, test_data)"
   ]
  }
 ],
 "metadata": {
  "kernelspec": {
   "display_name": "Python 3",
   "language": "python",
   "name": "python3"
  },
  "language_info": {
   "codemirror_mode": {
    "name": "ipython",
    "version": 3
   },
   "file_extension": ".py",
   "mimetype": "text/x-python",
   "name": "python",
   "nbconvert_exporter": "python",
   "pygments_lexer": "ipython3",
   "version": "3.7.4"
  }
 },
 "nbformat": 4,
 "nbformat_minor": 2
}

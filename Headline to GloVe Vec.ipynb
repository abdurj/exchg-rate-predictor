{
 "cells": [
  {
   "cell_type": "code",
   "execution_count": 478,
   "metadata": {},
   "outputs": [],
   "source": [
    "import torch\n",
    "import torchtext\n",
    "import torch.nn as nn\n",
    "import pandas as pd\n",
    "import os\n",
    "import csv\n",
    "import numpy as np\n",
    "import matplotlib.pyplot as plt\n",
    "\n",
    "cwd = os.getcwd()\n",
    "glove = torchtext.vocab.GloVe(name=\"6B\", dim=300) "
   ]
  },
  {
   "cell_type": "code",
   "execution_count": 415,
   "metadata": {},
   "outputs": [
    {
     "ename": "KeyboardInterrupt",
     "evalue": "",
     "output_type": "error",
     "traceback": [
      "\u001b[1;31m---------------------------------------------------------------------------\u001b[0m",
      "\u001b[1;31mKeyboardInterrupt\u001b[0m                         Traceback (most recent call last)",
      "\u001b[1;32m<ipython-input-415-db125d60de16>\u001b[0m in \u001b[0;36m<module>\u001b[1;34m\u001b[0m\n\u001b[0;32m     42\u001b[0m     \u001b[1;32mreturn\u001b[0m \u001b[0mtrain\u001b[0m\u001b[1;33m,\u001b[0m \u001b[0mvalid\u001b[0m\u001b[1;33m,\u001b[0m \u001b[0mtest\u001b[0m\u001b[1;33m\u001b[0m\u001b[1;33m\u001b[0m\u001b[0m\n\u001b[0;32m     43\u001b[0m \u001b[1;33m\u001b[0m\u001b[0m\n\u001b[1;32m---> 44\u001b[1;33m \u001b[0mtrain\u001b[0m\u001b[1;33m,\u001b[0m \u001b[0mvalid\u001b[0m\u001b[1;33m,\u001b[0m \u001b[0mtest\u001b[0m \u001b[1;33m=\u001b[0m \u001b[0mget_ML_data\u001b[0m\u001b[1;33m(\u001b[0m\u001b[0mglove\u001b[0m\u001b[1;33m)\u001b[0m\u001b[1;33m\u001b[0m\u001b[1;33m\u001b[0m\u001b[0m\n\u001b[0m",
      "\u001b[1;32m<ipython-input-415-db125d60de16>\u001b[0m in \u001b[0;36mget_ML_data\u001b[1;34m(glove)\u001b[0m\n\u001b[0;32m     33\u001b[0m         \u001b[0mlabel5\u001b[0m \u001b[1;33m=\u001b[0m \u001b[0mtorch\u001b[0m\u001b[1;33m.\u001b[0m\u001b[0mtensor\u001b[0m\u001b[1;33m(\u001b[0m\u001b[0mfloat\u001b[0m\u001b[1;33m(\u001b[0m\u001b[0mline\u001b[0m\u001b[1;33m[\u001b[0m\u001b[1;36m5\u001b[0m\u001b[1;33m]\u001b[0m\u001b[1;33m)\u001b[0m\u001b[1;33m)\u001b[0m\u001b[1;33m\u001b[0m\u001b[1;33m\u001b[0m\u001b[0m\n\u001b[0;32m     34\u001b[0m         \u001b[0mlabel6\u001b[0m \u001b[1;33m=\u001b[0m \u001b[0mtorch\u001b[0m\u001b[1;33m.\u001b[0m\u001b[0mtensor\u001b[0m\u001b[1;33m(\u001b[0m\u001b[0mfloat\u001b[0m\u001b[1;33m(\u001b[0m\u001b[0mline\u001b[0m\u001b[1;33m[\u001b[0m\u001b[1;36m6\u001b[0m\u001b[1;33m]\u001b[0m\u001b[1;33m)\u001b[0m\u001b[1;33m)\u001b[0m\u001b[1;33m\u001b[0m\u001b[1;33m\u001b[0m\u001b[0m\n\u001b[1;32m---> 35\u001b[1;33m         \u001b[0mlabels\u001b[0m \u001b[1;33m=\u001b[0m \u001b[0mtorch\u001b[0m\u001b[1;33m.\u001b[0m\u001b[0mtensor\u001b[0m\u001b[1;33m(\u001b[0m\u001b[1;33m[\u001b[0m\u001b[0mlabel1\u001b[0m\u001b[1;33m,\u001b[0m \u001b[0mlabel2\u001b[0m\u001b[1;33m,\u001b[0m \u001b[0mlabel3\u001b[0m\u001b[1;33m,\u001b[0m \u001b[0mlabel4\u001b[0m\u001b[1;33m,\u001b[0m \u001b[0mlabel5\u001b[0m\u001b[1;33m,\u001b[0m \u001b[0mlabel6\u001b[0m\u001b[1;33m]\u001b[0m\u001b[1;33m)\u001b[0m\u001b[1;33m\u001b[0m\u001b[1;33m\u001b[0m\u001b[0m\n\u001b[0m\u001b[0;32m     36\u001b[0m         \u001b[1;32mif\u001b[0m \u001b[0mi\u001b[0m \u001b[1;33m%\u001b[0m \u001b[1;36m5\u001b[0m \u001b[1;33m<\u001b[0m \u001b[1;36m3\u001b[0m\u001b[1;33m:\u001b[0m\u001b[1;33m\u001b[0m\u001b[1;33m\u001b[0m\u001b[0m\n\u001b[0;32m     37\u001b[0m             \u001b[0mtrain\u001b[0m\u001b[1;33m.\u001b[0m\u001b[0mappend\u001b[0m\u001b[1;33m(\u001b[0m\u001b[1;33m(\u001b[0m\u001b[0mword_index\u001b[0m\u001b[1;33m,\u001b[0m \u001b[0mlabels\u001b[0m\u001b[1;33m)\u001b[0m\u001b[1;33m)\u001b[0m\u001b[1;33m\u001b[0m\u001b[1;33m\u001b[0m\u001b[0m\n",
      "\u001b[1;31mKeyboardInterrupt\u001b[0m: "
     ]
    }
   ],
   "source": [
    "def split_headline(headline):\n",
    "    \n",
    "    headline = headline.replace(\".\", \" . \") \\\n",
    "                 .replace(\",\", \" , \") \\\n",
    "                 .replace(\";\", \" ; \") \\\n",
    "                 .replace(\"?\", \" ? \") \\\n",
    "                 .replace(\":\", \" : \") \\\n",
    "                 .replace(\"/\", \" / \") \\\n",
    "                 .replace(\"$\", \" $ \") \\\n",
    "                 .replace(\"€\", \" € \") \\\n",
    "                 .replace(\"(\", \" \") \\\n",
    "                 .replace(\")\", \" \") \\\n",
    "                 .replace(\"-\", \" \") \\\n",
    "                 .replace(\"~\", \" \") \\\n",
    "                 .replace(\"'\", \"\")\n",
    "    return headline.lower().split()\n",
    "\n",
    "def get_ML_data(glove):\n",
    "    train, valid, test = [], [], []\n",
    "    df = pd.read_csv('final_input.csv').drop(['Date'], axis=1)\n",
    "    for i, line in enumerate(df.values):\n",
    "        headline = str(line[0])\n",
    "        word_index = [glove.stoi[w]        \n",
    "                for w in split_headline(headline)\n",
    "                if w in glove.stoi] \n",
    "        if not word_index: \n",
    "            continue\n",
    "        word_index = torch.tensor(word_index) \n",
    "        label1 = torch.tensor(float(line[1]))\n",
    "        label2 = torch.tensor(float(line[2]))\n",
    "        label3 = torch.tensor(float(line[3]))\n",
    "        label4 = torch.tensor(float(line[4]))\n",
    "        label5 = torch.tensor(float(line[5]))\n",
    "        label6 = torch.tensor(float(line[6]))\n",
    "        labels = torch.tensor([label1, label2, label3, label4, label5, label6])\n",
    "        if i % 5 < 3:\n",
    "            train.append((word_index, labels))\n",
    "        elif i % 5 == 4:\n",
    "            valid.append((word_index, labels))\n",
    "        else:\n",
    "            test.append((word_index, labels))\n",
    "    return train, valid, test\n",
    "\n",
    "train, valid, test = get_ML_data(glove)"
   ]
  },
  {
   "cell_type": "code",
   "execution_count": 337,
   "metadata": {},
   "outputs": [],
   "source": [
    "from torch.nn.utils.rnn import pad_sequence\n",
    "\n",
    "train_data = []\n",
    "valid_data = []\n",
    "test_data = []\n",
    "train_labels = []\n",
    "valid_labels = []\n",
    "test_labels = []\n",
    "\n",
    "\n",
    "train_padded = pad_sequence([headline for headline, labels in train],\n",
    "                            batch_first=True)\n",
    "for headline, labels in train:\n",
    "    train_labels.append(labels)\n",
    "    \n",
    "valid_padded = pad_sequence([headline for headline, labels in valid],\n",
    "                            batch_first=True)\n",
    "for headline, labels in valid:\n",
    "    valid_labels.append(labels)\n",
    "    \n",
    "test_padded = pad_sequence([headline for headline, labels in test],\n",
    "                            batch_first=True)\n",
    "for headline, labels in test:\n",
    "    test_labels.append(labels)\n",
    "    \n",
    "for i in range(len(train_labels)):\n",
    "    train_data.append((train_padded[i], train_labels[i]))\n",
    "    \n",
    "for i in range(len(valid_labels)):\n",
    "    valid_data.append((valid_padded[i], valid_labels[i]))\n",
    "    \n",
    "for i in range(len(test_labels)):\n",
    "    test_data.append((test_padded[i], test_labels[i]))"
   ]
  },
  {
   "cell_type": "code",
   "execution_count": 472,
   "metadata": {},
   "outputs": [],
   "source": [
    "def get_error(model, data):\n",
    "    for headlines, labels in data:\n",
    "        output = (model(headlines))        \n",
    "        error = np.square(np.subtract(labels,output.detach().numpy())).mean() \n",
    "    return error"
   ]
  },
  {
   "cell_type": "code",
   "execution_count": 523,
   "metadata": {},
   "outputs": [],
   "source": [
    "def train_rnn_network(model, train, valid, num_epochs=5, learning_rate=1e-5, batch_size = 11):\n",
    "    criterion = nn.MSELoss()\n",
    "    optimizer = torch.optim.Adam(model.parameters(), lr=learning_rate)\n",
    "    train_loader = torch.utils.data.DataLoader(train, \n",
    "                                               batch_size=batch_size, \n",
    "                                               shuffle=True)\n",
    "    valid_loader = torch.utils.data.DataLoader(valid, \n",
    "                                           batch_size=batch_size, \n",
    "                                           shuffle=True)\n",
    "    epochs, losses, train_err, valid_err = [], [], [], []\n",
    "    n=0\n",
    "    \n",
    "    for epoch in range(num_epochs):\n",
    "        for headlines, labels in train:\n",
    "            optimizer.zero_grad()\n",
    "            pred = model(headlines.unsqueeze(0))\n",
    "            loss = criterion(pred, labels.float())\n",
    "            loss.backward()\n",
    "            optimizer.step()\n",
    "        losses.append(float(loss))\n",
    "        \n",
    "        \n",
    "        epochs.append(epoch)\n",
    "        train_err.append(get_error(model, train_loader))\n",
    "        valid_err.append(get_error(model, valid_loader))\n",
    "        print(\"Epoch %d; Loss %f; Train Err %f; Val Err %f\" % (\n",
    "            epoch+1, loss, train_err[-1], valid_err[-1]))\n",
    "        \n",
    "    \n",
    "        if (epoch + 1) % 5 == 0:\n",
    "            torch.save(model, cwd + '\\\\Checkpoint.pth' + str(n))\n",
    "            n += 1\n",
    "            \n",
    "    plt.title(\"Training Curve\")\n",
    "    plt.plot(losses, label=\"Train\")\n",
    "    plt.xlabel(\"Epoch\")\n",
    "    plt.ylabel(\"Loss\")\n",
    "    plt.show()\n",
    "    \n",
    "    plt.title(\"Error Curve\")\n",
    "    plt.plot(epochs, train_err, label=\"Train\")\n",
    "    plt.plot(epochs, valid_err, label=\"Validation\")\n",
    "    plt.xlabel(\"Epoch\")\n",
    "    plt.ylabel(\"MSE\")\n",
    "    plt.legend(loc='best')\n",
    "    plt.show()"
   ]
  },
  {
   "cell_type": "code",
   "execution_count": 524,
   "metadata": {},
   "outputs": [
    {
     "name": "stdout",
     "output_type": "stream",
     "text": [
      "Epoch 1; Loss 0.106131; Train Err 0.028224; Val Err 0.052100\n",
      "Epoch 2; Loss 0.093270; Train Err 0.036116; Val Err 0.042317\n",
      "Epoch 3; Loss 0.082118; Train Err 0.045301; Val Err 0.035290\n",
      "Epoch 4; Loss 0.072747; Train Err 0.020936; Val Err 0.030500\n",
      "Epoch 5; Loss 0.065069; Train Err 0.005140; Val Err 0.027409\n",
      "Epoch 6; Loss 0.058939; Train Err 0.011992; Val Err 0.025518\n",
      "Epoch 7; Loss 0.054123; Train Err 0.022253; Val Err 0.024408\n",
      "Epoch 8; Loss 0.050318; Train Err 0.013555; Val Err 0.023769\n",
      "Epoch 9; Loss 0.047216; Train Err 0.010445; Val Err 0.023402\n",
      "Epoch 10; Loss 0.044566; Train Err 0.018402; Val Err 0.023184\n"
     ]
    },
    {
     "data": {
      "image/png": "[encoded data removed]",
      "text/plain": [
       "<Figure size 432x288 with 1 Axes>"
      ]
     },
     "metadata": {
      "needs_background": "light"
     },
     "output_type": "display_data"
    },
    {
     "data": {
      "image/png": "[encoded data removed]",
      "text/plain": [
       "<Figure size 432x288 with 1 Axes>"
      ]
     },
     "metadata": {
      "needs_background": "light"
     },
     "output_type": "display_data"
    }
   ],
   "source": [
    "class Exch_LSTM(nn.Module):\n",
    "    def __init__(self, input_size, hidden_size, num_classes):\n",
    "        super(Exch_LSTM, self).__init__()\n",
    "        self.emb = nn.Embedding.from_pretrained(glove.vectors)\n",
    "        self.hidden_size = hidden_size\n",
    "        self.rnn = nn.LSTM(input_size, hidden_size, batch_first=True)\n",
    "        self.fc = nn.Linear(hidden_size, num_classes)\n",
    "    \n",
    "    def forward(self, x):\n",
    "        x = self.emb(x)\n",
    "        h0 = torch.zeros(1, x.size(0), self.hidden_size)\n",
    "        c0 = torch.zeros(1, x.size(0), self.hidden_size)\n",
    "        out, _ = self.rnn(x, (h0, c0))\n",
    "        out = self.fc(out[:, -1, :])\n",
    "        return out\n",
    "\n",
    "model_lstm = Exch_LSTM(300, 300, 6)\n",
    "train_rnn_network(model_lstm, train_data, valid_data, num_epochs=10, learning_rate=2e-5)"
   ]
  },
  {
   "cell_type": "code",
   "execution_count": 324,
   "metadata": {},
   "outputs": [],
   "source": [
    "def headline_to_index(headline):\n",
    "    word_index = [glove.stoi[w]        \n",
    "        for w in split_headline(headline)\n",
    "                        if w in glove.stoi] \n",
    "    if not word_index: \n",
    "        pass\n",
    "    word_index = torch.tensor(word_index) \n",
    "    return word_index.unsqueeze(0)"
   ]
  },
  {
   "cell_type": "code",
   "execution_count": 333,
   "metadata": {},
   "outputs": [
    {
     "data": {
      "text/plain": [
       "tensor([[0.0424, 0.0533, 0.0567, 0.0502, 0.0456, 0.0505]],\n",
       "       grad_fn=<AddmmBackward>)"
      ]
     },
     "execution_count": 333,
     "metadata": {},
     "output_type": "execute_result"
    }
   ],
   "source": [
    "headline = headline_to_index(\"Big Brain Moment! @#*&^%&\")\n",
    "\n",
    "model_lstm(headline)\n"
   ]
  }
 ],
 "metadata": {
  "kernelspec": {
   "display_name": "Python 3",
   "language": "python",
   "name": "python3"
  },
  "language_info": {
   "codemirror_mode": {
    "name": "ipython",
    "version": 3
   },
   "file_extension": ".py",
   "mimetype": "text/x-python",
   "name": "python",
   "nbconvert_exporter": "python",
   "pygments_lexer": "ipython3",
   "version": "3.7.4"
  }
 },
 "nbformat": 4,
 "nbformat_minor": 2
}

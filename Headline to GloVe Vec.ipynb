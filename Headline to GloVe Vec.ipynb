{
 "cells": [
  {
   "cell_type": "code",
   "execution_count": 1,
   "metadata": {},
   "outputs": [
    {
     "name": "stderr",
     "output_type": "stream",
     "text": [
      ".vector_cache\\glove.6B.zip: 862MB [13:02, 1.10MB/s]                                                                    \n",
      "100%|███████████████████████████████████████████████████████████████████████▉| 399476/400000 [01:25<00:00, 7192.94it/s]"
     ]
    }
   ],
   "source": [
    "import torch\n",
    "import torchtext\n",
    "import torch.nn as nn\n",
    "import pandas as pd\n",
    "\n",
    "glove = torchtext.vocab.GloVe(name=\"6B\", dim=300) "
   ]
  },
  {
   "cell_type": "code",
   "execution_count": 13,
   "metadata": {},
   "outputs": [],
   "source": [
    "import csv\n",
    "\n",
    "def get_data():\n",
    "    return csv.reader(open(\"testfile.csv\", \"rt\", encoding=\"latin-1\"))\n"
   ]
  },
  {
   "cell_type": "code",
   "execution_count": 21,
   "metadata": {},
   "outputs": [],
   "source": [
    "def split_headline(headline):\n",
    "    \n",
    "    headline = headline.replace(\".\", \" . \") \\\n",
    "                 .replace(\",\", \" , \") \\\n",
    "                 .replace(\";\", \" ; \") \\\n",
    "                 .replace(\"?\", \" ? \") \\\n",
    "                 .replace(\":\", \" : \") \\\n",
    "                 .replace(\"/\", \" / \") \\\n",
    "                 .replace(\"(\", \"\") \\\n",
    "                 .replace(\")\", \"\") \\\n",
    "                 .replace(\"-\", \"\") \\\n",
    "                 .replace(\"~\", \"\")\n",
    "    return headline.lower().split()\n",
    "\n",
    "def get_ML_data(glove):\n",
    "    train, valid, test = [], [], []\n",
    "    for i, line in enumerate(get_data()):\n",
    "        headline = line[0]\n",
    "        word_index = [glove.stoi[w]        # lookup the index of word\n",
    "                for w in split_headline(headline)\n",
    "                if w in glove.stoi] # keep words that has an embedding\n",
    "        if not word_index: # ignore tweets without any word with an embedding\n",
    "            continue\n",
    "        word_index = torch.tensor(word_index) # convert list to pytorch tensor\n",
    "        label1 = torch.tensor(int(line[1]))\n",
    "        label2 = torch.tensor(int(line[2]))\n",
    "        label3 = torch.tensor(int(line[3]))\n",
    "        label4 = torch.tensor(int(line[4]))\n",
    "        label5 = torch.tensor(int(line[5]))\n",
    "        label6 = torch.tensor(int(line[6]))\n",
    "        if i % 5 in [0,1,2,3]:\n",
    "            train.append((word_index, label1, label2, label3, label4, label5, label6))\n",
    "        elif i % 5 == 4:\n",
    "            valid.append((word_index, label1, label2, label3, label4, label5, label6))\n",
    "        else:\n",
    "            test.append((word_index, label1, label2, label3, label4, label5, label6))\n",
    "    return train, valid, test\n",
    "\n",
    "train, valid, test = get_ML_data(glove)"
   ]
  },
  {
   "cell_type": "code",
   "execution_count": 24,
   "metadata": {},
   "outputs": [],
   "source": [
    "class Exch_RNN(nn.Module):\n",
    "    def __init__(self, input_size, hidden_size, num_classes):\n",
    "        super(Exch_RNN, self).__init__()\n",
    "        self.emb = nn.Embedding.from_pretrained(glove.vectors)\n",
    "        self.hidden_size = hidden_size\n",
    "        self.rnn = nn.RNN(input_size, hidden_size, batch_first=True)\n",
    "        self.fc = nn.Linear(hidden_size, num_classes)\n",
    "    \n",
    "    def forward(self, x):\n",
    "        # Look up the embedding\n",
    "        x = self.emb(x)\n",
    "        # Set an initial hidden state\n",
    "        h0 = torch.zeros(1, x.size(0), self.hidden_size)\n",
    "        # Forward propagate the RNN\n",
    "        out, _ = self.rnn(x, h0)\n",
    "        # Pass the output of the last time step to the classifier\n",
    "        out = self.fc(out[:, -1, :])\n",
    "        return out\n",
    "\n",
    "model = Exch_RNN(300, 300, 6)"
   ]
  },
  {
   "cell_type": "code",
   "execution_count": 40,
   "metadata": {},
   "outputs": [
    {
     "data": {
      "text/plain": [
       "torch.Size([11, 9])"
      ]
     },
     "execution_count": 40,
     "metadata": {},
     "output_type": "execute_result"
    }
   ],
   "source": [
    "from torch.nn.utils.rnn import pad_sequence\n",
    "\n",
    "train_padded = pad_sequence([headline for headline, label1, label2, label3, label4, label5, label6 in train],\n",
    "                            batch_first=True)\n",
    "train_padded.shape"
   ]
  },
  {
   "cell_type": "code",
   "execution_count": 41,
   "metadata": {},
   "outputs": [
    {
     "data": {
      "text/plain": [
       "tensor([[ 0.1586,  0.1899,  0.0399,  0.1140, -0.0206,  0.1224],\n",
       "        [-0.0202,  0.1809,  0.1517,  0.1377, -0.1003, -0.0245],\n",
       "        [ 0.1903,  0.1204,  0.0219,  0.1442, -0.0491,  0.1473],\n",
       "        [ 0.1903,  0.1204,  0.0219,  0.1442, -0.0491,  0.1473],\n",
       "        [ 0.1903,  0.1204,  0.0219,  0.1442, -0.0491,  0.1473],\n",
       "        [ 0.1903,  0.1204,  0.0219,  0.1442, -0.0491,  0.1473],\n",
       "        [ 0.1903,  0.1204,  0.0219,  0.1442, -0.0491,  0.1473],\n",
       "        [ 0.1903,  0.1204,  0.0219,  0.1442, -0.0491,  0.1473],\n",
       "        [ 0.1903,  0.1204,  0.0219,  0.1442, -0.0491,  0.1473],\n",
       "        [ 0.1903,  0.1204,  0.0219,  0.1442, -0.0491,  0.1473],\n",
       "        [ 0.1903,  0.1204,  0.0219,  0.1442, -0.0491,  0.1473]],\n",
       "       grad_fn=<AddmmBackward>)"
      ]
     },
     "execution_count": 41,
     "metadata": {},
     "output_type": "execute_result"
    }
   ],
   "source": [
    "model(train_padded)"
   ]
  }
 ],
 "metadata": {
  "kernelspec": {
   "display_name": "Python 3",
   "language": "python",
   "name": "python3"
  },
  "language_info": {
   "codemirror_mode": {
    "name": "ipython",
    "version": 3
   },
   "file_extension": ".py",
   "mimetype": "text/x-python",
   "name": "python",
   "nbconvert_exporter": "python",
   "pygments_lexer": "ipython3",
   "version": "3.7.4"
  }
 },
 "nbformat": 4,
 "nbformat_minor": 2
}
